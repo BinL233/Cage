{
 "cells": [
  {
   "cell_type": "code",
   "execution_count": 1,
   "id": "eddb544d-5099-4408-b394-64dd5a01640d",
   "metadata": {},
   "outputs": [],
   "source": [
    "import torch\n",
    "import torch.nn as nn"
   ]
  },
  {
   "cell_type": "code",
   "execution_count": 5,
   "id": "972eaf79-8ccd-4494-84df-126bde2eeb87",
   "metadata": {},
   "outputs": [
    {
     "name": "stdout",
     "output_type": "stream",
     "text": [
      "torch.Size([1, 4, 1000])\n"
     ]
    }
   ],
   "source": [
    "raw_input = torch.randint(0, 4, (1, 1000, 1))\n",
    "f_input = nn.functional.one_hot(raw_input.squeeze(-1).long(), num_classes=4)\n",
    "f_input = f_input.permute(0, 2, 1).float()\n",
    "print(f_input.shape)"
   ]
  },
  {
   "cell_type": "code",
   "execution_count": 6,
   "id": "0e941dea",
   "metadata": {},
   "outputs": [],
   "source": [
    "class SignalCNN(nn.Module):\n",
    "    def __init__(self):\n",
    "        super(SignalCNN, self).__init__()\n",
    "\n",
    "        self.conv1 = nn.Conv1d(in_channels=4, out_channels=16, kernel_size=25, stride=1, padding=12)\n",
    "        self.conv2 = nn.Conv1d(in_channels=16, out_channels=32, kernel_size=3, stride=1, padding=1)\n",
    "        self.conv3 = nn.Conv1d(in_channels=32, out_channels=1, kernel_size=1)\n",
    "        \n",
    "    def forward(self, x):\n",
    "        x = torch.relu(self.conv1(x))\n",
    "        x = torch.relu(self.conv2(x))\n",
    "        x = self.conv3(x)\n",
    "        return x"
   ]
  },
  {
   "cell_type": "code",
   "execution_count": null,
   "id": "f3b154b7",
   "metadata": {},
   "outputs": [],
   "source": []
  },
  {
   "cell_type": "code",
   "execution_count": 8,
   "id": "eb590db1",
   "metadata": {},
   "outputs": [
    {
     "name": "stdout",
     "output_type": "stream",
     "text": [
      "torch.Size([1, 1, 1000])\n"
     ]
    }
   ],
   "source": [
    "model = SignalCNN()\n",
    "output = model(f_input)\n",
    "print(output.shape)"
   ]
  },
  {
   "cell_type": "code",
   "execution_count": null,
   "id": "5590b842",
   "metadata": {},
   "outputs": [],
   "source": []
  },
  {
   "cell_type": "code",
   "execution_count": null,
   "id": "c3d79435",
   "metadata": {},
   "outputs": [],
   "source": []
  },
  {
   "cell_type": "code",
   "execution_count": null,
   "id": "4048a18f",
   "metadata": {},
   "outputs": [],
   "source": []
  }
 ],
 "metadata": {
  "kernelspec": {
   "display_name": "Python 3 (ipykernel)",
   "language": "python",
   "name": "python3"
  },
  "language_info": {
   "codemirror_mode": {
    "name": "ipython",
    "version": 3
   },
   "file_extension": ".py",
   "mimetype": "text/x-python",
   "name": "python",
   "nbconvert_exporter": "python",
   "pygments_lexer": "ipython3",
   "version": "3.11.4"
  }
 },
 "nbformat": 4,
 "nbformat_minor": 5
}
