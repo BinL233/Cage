{
 "cells": [
  {
   "cell_type": "code",
   "execution_count": 14,
   "id": "eddb544d-5099-4408-b394-64dd5a01640d",
   "metadata": {},
   "outputs": [],
   "source": [
    "import torch\n",
    "import torch.nn as nn\n",
    "import numpy as np\n",
    "from sklearn.preprocessing import OneHotEncoder\n",
    "import pyBigWig\n",
    "from kipoiseq import Interval\n",
    "import kipoiseq\n",
    "from Bio.Seq import Seq\n",
    "import pyfaidx"
   ]
  },
  {
   "cell_type": "code",
   "execution_count": 15,
   "id": "3c965add",
   "metadata": {},
   "outputs": [],
   "source": [
    "# extract DNA sequence\n",
    "class FastaStringExtractor:\n",
    "    def __init__(self, fasta_file):\n",
    "        self.fasta = pyfaidx.Fasta(fasta_file)\n",
    "        self._chromosome_sizes = {k: len(v) for k, v in self.fasta.items()}\n",
    "\n",
    "    def extract(self, interval: Interval, **kwargs) -> str:\n",
    "        # Truncate interval if it extends beyond the chromosome lengths.\n",
    "        chromosome_length = self._chromosome_sizes[interval.chrom]\n",
    "        trimmed_interval = Interval(interval.chrom,\n",
    "                                    max(interval.start, 0),\n",
    "                                    min(interval.end, chromosome_length),\n",
    "                                    )\n",
    "        # pyfaidx wants a 1-based interval\n",
    "        sequence = str(self.fasta.get_seq(trimmed_interval.chrom,\n",
    "                                          trimmed_interval.start + 1,\n",
    "                                          trimmed_interval.stop).seq).upper()\n",
    "        # Fill truncated values with N's.\n",
    "        pad_upstream = 'N' * max(-interval.start, 0)\n",
    "        pad_downstream = 'N' * max(interval.end - chromosome_length, 0)\n",
    "        return pad_upstream + sequence + pad_downstream\n",
    "\n",
    "    def close(self):\n",
    "        return self.fasta.close()"
   ]
  },
  {
   "cell_type": "code",
   "execution_count": 16,
   "id": "79bb4e7b",
   "metadata": {},
   "outputs": [],
   "source": [
    "def getInput(seq):\n",
    "    # Extract fa file\n",
    "    fasta_extractor = FastaStringExtractor(seq)\n",
    "    target_interval = kipoiseq.Interval('chr1', 10000, 10100)\n",
    "    seqs = fasta_extractor.extract(target_interval)\n",
    "    seqs_2d = np.array(list(seqs)).reshape(-1, 1)\n",
    "\n",
    "    # One-hot\n",
    "    encoder = OneHotEncoder(categories=[['A', 'C', 'G', 'T']], sparse_output=False)\n",
    "    f_input = encoder.fit_transform(seqs_2d)\n",
    "\n",
    "    # Convert np matrix to torch matrix\n",
    "    f_input = torch.tensor(f_input, dtype=torch.float32).unsqueeze(0).permute(0, 2, 1)\n",
    "\n",
    "    return f_input"
   ]
  },
  {
   "cell_type": "code",
   "execution_count": 17,
   "id": "0e941dea",
   "metadata": {},
   "outputs": [],
   "source": [
    "class SignalCNN(nn.Module):\n",
    "    def __init__(self):\n",
    "        super(SignalCNN, self).__init__()\n",
    "        \n",
    "        # layers\n",
    "        self.conv1 = nn.Conv1d(in_channels=4, out_channels=16, kernel_size=25, stride=1, padding=12)\n",
    "        self.conv2 = nn.Conv1d(in_channels=16, out_channels=32, kernel_size=3, stride=1, padding=1)\n",
    "        self.conv3 = nn.Conv1d(in_channels=32, out_channels=1, kernel_size=1)\n",
    "        \n",
    "    def forward(self, x):\n",
    "        x = torch.relu(self.conv1(x))\n",
    "        x = torch.relu(self.conv2(x))\n",
    "        x = self.conv3(x)\n",
    "        return x"
   ]
  },
  {
   "cell_type": "code",
   "execution_count": 18,
   "id": "eb590db1",
   "metadata": {},
   "outputs": [
    {
     "data": {
      "text/plain": [
       "torch.Size([1, 1, 100])"
      ]
     },
     "metadata": {},
     "output_type": "display_data"
    },
    {
     "data": {
      "text/plain": [
       "tensor([[[0.1557, 0.1475, 0.1450, 0.1585, 0.1520, 0.1284, 0.1488, 0.1381,\n",
       "          0.1510, 0.1609, 0.1619, 0.1384, 0.1754, 0.1408, 0.1634, 0.1777,\n",
       "          0.1633, 0.1314, 0.1725, 0.1408, 0.1634, 0.1777, 0.1633, 0.1314,\n",
       "          0.1725, 0.1408, 0.1634, 0.1777, 0.1633, 0.1314, 0.1725, 0.1408,\n",
       "          0.1634, 0.1777, 0.1633, 0.1314, 0.1725, 0.1408, 0.1634, 0.1777,\n",
       "          0.1633, 0.1314, 0.1725, 0.1408, 0.1634, 0.1777, 0.1633, 0.1314,\n",
       "          0.1725, 0.1408, 0.1634, 0.1777, 0.1633, 0.1314, 0.1725, 0.1408,\n",
       "          0.1634, 0.1777, 0.1633, 0.1314, 0.1725, 0.1408, 0.1634, 0.1777,\n",
       "          0.1633, 0.1314, 0.1725, 0.1408, 0.1634, 0.1777, 0.1633, 0.1314,\n",
       "          0.1725, 0.1408, 0.1634, 0.1777, 0.1633, 0.1314, 0.1725, 0.1408,\n",
       "          0.1634, 0.1777, 0.1633, 0.1314, 0.1725, 0.1408, 0.1634, 0.1719,\n",
       "          0.1596, 0.1503, 0.1815, 0.1353, 0.1548, 0.1561, 0.1555, 0.1315,\n",
       "          0.1786, 0.1399, 0.1300, 0.1404]]], grad_fn=<ConvolutionBackward0>)"
      ]
     },
     "metadata": {},
     "output_type": "display_data"
    }
   ],
   "source": [
    "model = SignalCNN()\n",
    "dataset = model(getInput(\"Data/hg38.fa\"))\n",
    "display(dataset.shape)\n",
    "display(dataset)"
   ]
  },
  {
   "cell_type": "code",
   "execution_count": null,
   "id": "c64feda8",
   "metadata": {},
   "outputs": [],
   "source": [
    "train_output = trainer.SeqModelTrainer()"
   ]
  },
  {
   "cell_type": "code",
   "execution_count": null,
   "id": "5590b842",
   "metadata": {},
   "outputs": [],
   "source": [
    "# Load files\n",
    "bw = pyBigWig.open(\"Data/example/ENCSR000AKO_plus.bigWig\")\n",
    "print(bw.chroms())"
   ]
  },
  {
   "cell_type": "code",
   "execution_count": null,
   "id": "ddb99c5a",
   "metadata": {},
   "outputs": [],
   "source": [
    "print(bw.values('1', 1000000, 1300000))"
   ]
  },
  {
   "cell_type": "code",
   "execution_count": null,
   "id": "17746a64",
   "metadata": {},
   "outputs": [],
   "source": []
  }
 ],
 "metadata": {
  "kernelspec": {
   "display_name": "Python 3 (ipykernel)",
   "language": "python",
   "name": "python3"
  },
  "language_info": {
   "codemirror_mode": {
    "name": "ipython",
    "version": 3
   },
   "file_extension": ".py",
   "mimetype": "text/x-python",
   "name": "python",
   "nbconvert_exporter": "python",
   "pygments_lexer": "ipython3",
   "version": "3.11.4"
  }
 },
 "nbformat": 4,
 "nbformat_minor": 5
}
